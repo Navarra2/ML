{
  "nbformat": 4,
  "nbformat_minor": 0,
  "metadata": {
    "colab": {
      "name": "CLAProject.ipynb",
      "provenance": [],
      "collapsed_sections": [],
      "include_colab_link": true
    },
    "kernelspec": {
      "name": "python3",
      "display_name": "Python 3"
    },
    "language_info": {
      "name": "python"
    }
  },
  "cells": [
    {
      "cell_type": "markdown",
      "metadata": {
        "id": "view-in-github",
        "colab_type": "text"
      },
      "source": [
        "<a href=\"https://colab.research.google.com/github/Navarra2/ML/blob/master/CLAProject.ipynb\" target=\"_parent\"><img src=\"https://colab.research.google.com/assets/colab-badge.svg\" alt=\"Open In Colab\"/></a>"
      ]
    },
    {
      "cell_type": "code",
      "metadata": {
        "id": "puUDHeXY8BiT",
        "colab": {
          "base_uri": "https://localhost:8080/"
        },
        "outputId": "699a28f2-8f74-42b2-f23b-2c1d9103a0f2"
      },
      "source": [
        "import numpy as np\n",
        "from scipy.linalg import logm\n",
        "from scipy.sparse import diags, identity\n",
        "from scipy.sparse.linalg import spsolve\n",
        "from matplotlib import pyplot as plt\n",
        "!pip install rogues\n",
        "from rogues import wathen\n",
        "from google.colab import files\n"
      ],
      "execution_count": null,
      "outputs": [
        {
          "output_type": "stream",
          "text": [
            "Requirement already satisfied: rogues in /usr/local/lib/python3.7/dist-packages (0.5.0)\n",
            "Requirement already satisfied: numpy in /usr/local/lib/python3.7/dist-packages (from rogues) (1.19.5)\n",
            "Requirement already satisfied: scipy in /usr/local/lib/python3.7/dist-packages (from rogues) (1.4.1)\n"
          ],
          "name": "stdout"
        }
      ]
    },
    {
      "cell_type": "code",
      "metadata": {
        "id": "bN7XsChTYbps"
      },
      "source": [
        "def gershgorin(A):\n",
        "  '''\n",
        "  Input : A nxn matrix\n",
        "  Returns: extremities of Gershgorin discs\n",
        "  '''\n",
        "  abs_A = np.abs(A)\n",
        "  radii = np.sum(abs_A, axis=1) - np.diagonal(abs_A)\n",
        "  return np.min(np.diagonal(A) - radii), np.max(np.diagonal(A) + radii)"
      ],
      "execution_count": null,
      "outputs": []
    },
    {
      "cell_type": "code",
      "metadata": {
        "id": "HwG5kO-3hoat"
      },
      "source": [
        "def alg1(A,u,f,eps,maxit):\n",
        "  \"Algorithm 1 with Gauss-Radau quadrature\"\n",
        "\n",
        "  #find the values a and b bounds of the spectrum using the Gerschgorin circles\n",
        "  a, b = gershgorin(A)\n",
        "  if a <= 0:\n",
        "    a = 1e-4\n",
        "\n",
        "  #beginning of the Algorithm\n",
        "  x_old = np.zeros_like(u)\n",
        "  x_new = u/np.linalg.norm(u)\n",
        "  gamma = np.zeros(maxit)\n",
        "  alpha = np.zeros(maxit)\n",
        "  Ia_old = -np.inf\n",
        "  Ia_new = np.inf\n",
        "  Ib_old = -np.inf\n",
        "  Ib_new = np.inf\n",
        "  j = 1\n",
        "  while (j==1) or ((np.abs(Ia_old - Ia_new)/np.abs(Ia_new)>eps or np.abs(Ib_old - Ib_new)/np.abs(Ib_new)>eps) and j< maxit):\n",
        "    #getting the values of alpha, gamma, r\n",
        "    Ax = np.matmul(A,x_new)\n",
        "    alpha[j] = np.matmul(x_new.transpose(),Ax)\n",
        "    r_new = Ax - alpha[j]*x_new - gamma[j-1]*x_old\n",
        "    gamma[j] = np.linalg.norm(r_new)\n",
        "    gammaj = gamma[j]\n",
        "\n",
        "    #construction of T^tilde\n",
        "    Tj = np.diag(gamma[1:j],-1) + np.diag(alpha[1:j+1],0) + np.diag(gamma[1:j],1)\n",
        "    ej = np.identity(j)[:,-1]\n",
        "\n",
        "    \n",
        "    Ta =Tj - a*np.identity(j)\n",
        "    Tb = Tj - b*np.identity(j)\n",
        "\n",
        "    #check if the matrices are non singular (this will not happen in general due to the interlacing property of the Tj's in A)\n",
        "    if np.linalg.det(Ta)==0 or np.linalg.det(Tb)==0:\n",
        "      break\n",
        "      \n",
        "    #extend matrix T to T_tilde\n",
        "    deltaa = np.linalg.solve(Ta,(gammaj**2)*ej)\n",
        "    deltab = np.linalg.solve(Tb,(gammaj**2)*ej)\n",
        "\n",
        "    phia = deltaa[-1] + a\n",
        "    phib = deltab[-1] + b\n",
        "\n",
        "    ej = np.expand_dims(ej, axis=0)    \n",
        "    Tj_tildea = np.block([\n",
        "    [Tj,               gammaj*ej.transpose()],\n",
        "    [gammaj*ej, phia               ]\n",
        "])  \n",
        "    Tj_tildeb = np.block([\n",
        "    [Tj,               gammaj*ej.transpose()],\n",
        "    [gammaj*ej, phib               ]\n",
        "])  \n",
        "\n",
        "    Ia_old = Ia_new\n",
        "    Ib_old = Ib_new\n",
        "    #compute I_j\n",
        "    Ia_new = gauss_radau(Tj_tildea,f,a,b)\n",
        "    Ib_new = gauss_radau(Tj_tildeb,f,a,b)\n",
        "\n",
        "    x_old = x_new\n",
        "    x_new = r_new/gammaj\n",
        "\n",
        "    j+=1\n",
        "\n",
        "  #Compute the estimates for lower and upper bounds\n",
        "  U = Ia_new*np.linalg.norm(u)**2\n",
        "  L = Ib_new*np.linalg.norm(u)**2\n",
        "\n",
        "  if L<=U:\n",
        "    return [L,U]\n",
        "  else:\n",
        "    return [U,L]\n"
      ],
      "execution_count": null,
      "outputs": []
    },
    {
      "cell_type": "code",
      "metadata": {
        "id": "ocSiXiKWr-Mt"
      },
      "source": [
        "def gauss_radau(T,f,a,b):\n",
        "  \"Computes the Gauss-Radau quadrature\"\n",
        "  teta, eigvec= np.linalg.eig(T)\n",
        "  w = np.zeros_like(teta)\n",
        "  I=0\n",
        "  #normalize them to get w\n",
        "  for i in range(np.shape(eigvec)[1]):\n",
        "    vec = eigvec[:,i] \n",
        "    wi = (vec/np.linalg.norm(vec))[0]\n",
        "    I += wi**2*f(teta[i])\n",
        "\n",
        "  return I\n"
      ],
      "execution_count": null,
      "outputs": []
    },
    {
      "cell_type": "code",
      "metadata": {
        "id": "oT8p5Q96X7GC"
      },
      "source": [
        "plt.style.use(\"seaborn-paper\")\n",
        "plt.style.use(\"seaborn-colorblind\")\n",
        "def alg2(A,f,m,p,eps,maxit):\n",
        "  \"Computes an unbiased estimator I_p of tr(A) and a confidence interval (L_p, U_p) with a user probability p\"\n",
        "  \" It differs on the Algorithm 2 in the paper in step 7 where the bounds for the Hoeffding's Inequality are m*a and m*b and not Lmin and Umax\"\n",
        "\n",
        "  a, b = gershgorin(A)\n",
        "  n = len(A)\n",
        "  Lmin = np.inf\n",
        "  Umax = -np.inf\n",
        "  sumLj = 0\n",
        "  sumUj = 0\n",
        "  I = np.zeros(m)\n",
        "  L = np.zeros(m)\n",
        "  U = np.zeros(m)\n",
        "\n",
        "  for j in range(m):\n",
        "    zj = np.random.random_sample(n)\n",
        "    for i in range(n):\n",
        "      if zj[i]<0.5:\n",
        "        zj[i] = -1\n",
        "      else:\n",
        "        zj[i] = 1\n",
        "    S = alg1(A,zj,f,eps,maxit)\n",
        "    sumLj =sumLj + S[0]\n",
        "    sumUj =sumUj + S[1]\n",
        "    I[j] = (sumUj + sumLj)/(2*(j+1))\n",
        "\n",
        "    Lmin = min(Lmin,S[0])\n",
        "    Umax = max(Umax,S[1])\n",
        "\n",
        "    eta2 = -0.5*(j+1)*((n*b-n*a)**2)*(np.log(1-p)/2)\n",
        "    L[j] = (sumLj - np.sqrt(eta2))/(j+1)\n",
        "    U[j] = (sumUj +np.sqrt(eta2))/(j+1)\n",
        "\n",
        "  return I,L,U"
      ],
      "execution_count": null,
      "outputs": []
    },
    {
      "cell_type": "code",
      "metadata": {
        "id": "_edww1rj-I4-"
      },
      "source": [
        "\n",
        "'''\n",
        "    plt.savefig(\"fig.pdf\", format=\"pdf\")\n",
        "    files.download(\"fig.pdf\") \n",
        "'''"
      ],
      "execution_count": null,
      "outputs": []
    },
    {
      "cell_type": "code",
      "metadata": {
        "colab": {
          "base_uri": "https://localhost:8080/"
        },
        "id": "PswfYlRX0LAN",
        "outputId": "106c0629-e328-463c-d43d-92ffa25c223c"
      },
      "source": [
        "# small experiments\n",
        "def f(x):\n",
        "  return 1/x\n",
        "def g(x):\n",
        "  return np.log(x)\n",
        "f(2)\n",
        "A = [[1,0,0],[0,2,1],[0,1,1]]\n",
        "B = [[1,0,0],[0,2,1],[0,1,1]]\n",
        "eps = 1e-4\n",
        "maxit = 50\n",
        "u=[-1,-1,1]\n",
        "alg1(B,u,f,eps,maxit)\n",
        "np.log(B)"
      ],
      "execution_count": null,
      "outputs": [
        {
          "output_type": "stream",
          "text": [
            "/usr/local/lib/python3.7/dist-packages/ipykernel_launcher.py:13: RuntimeWarning: divide by zero encountered in log\n",
            "  del sys.path[0]\n"
          ],
          "name": "stderr"
        },
        {
          "output_type": "execute_result",
          "data": {
            "text/plain": [
              "array([[0.        ,       -inf,       -inf],\n",
              "       [      -inf, 0.69314718, 0.        ],\n",
              "       [      -inf, 0.        , 0.        ]])"
            ]
          },
          "metadata": {
            "tags": []
          },
          "execution_count": 86
        }
      ]
    },
    {
      "cell_type": "code",
      "metadata": {
        "colab": {
          "base_uri": "https://localhost:8080/"
        },
        "id": "BNSafWeGzDL2",
        "outputId": "59988846-01fc-4d3d-bbd9-48572ccfacb5"
      },
      "source": [
        "#small experiments\n",
        "eps=1e-4\n",
        "maxit=80\n",
        "B = [[1,0,0],[0,2,1],[0,1,1]]\n",
        "m=50\n",
        "alg2(B,f,m,0.95,eps,maxit)"
      ],
      "execution_count": null,
      "outputs": [
        {
          "output_type": "execute_result",
          "data": {
            "text/plain": [
              "(array([6.        , 4.        , 3.33333333, 4.        , 3.6       ,\n",
              "        4.        , 4.28571429, 4.        , 4.22222222, 4.        ,\n",
              "        3.81818182, 3.66666667, 3.53846154, 3.42857143, 3.33333333,\n",
              "        3.5       , 3.64705882, 3.55555556, 3.47368421, 3.6       ,\n",
              "        3.71428571, 3.81818182, 3.73913043, 3.66666667, 3.76      ,\n",
              "        3.69230769, 3.77777778, 3.85714286, 3.79310345, 3.86666667,\n",
              "        3.80645161, 3.75      , 3.6969697 , 3.76470588, 3.71428571,\n",
              "        3.77777778, 3.83783784, 3.78947368, 3.74358974, 3.8       ,\n",
              "        3.85365854, 3.9047619 , 3.95348837, 3.90909091, 3.95555556,\n",
              "        3.91304348, 3.95744681, 4.        , 3.95918367, 4.        ]),\n",
              " array([-123.8113787 ,  -87.79050615,  -71.6133011 ,  -60.90568935,\n",
              "         -54.4534134 ,  -48.99527344,  -44.77837505,  -41.89525308,\n",
              "         -39.04823734,  -37.04996229,  -35.32142151,  -33.80665055,\n",
              "         -32.46473708,  -31.26497886,  -30.18382052,  -28.95284467,\n",
              "         -27.83682505,  -27.04127983,  -26.3070885 ,  -25.4267067 ,\n",
              "         -24.61287947,  -23.85769711,  -23.32841313,  -22.83097005,\n",
              "         -22.20227574,  -21.76579819,  -21.2044337 ,  -20.67490181,\n",
              "         -20.31226442,  -19.83354011,  -19.50836026,  -19.19762654,\n",
              "         -18.90029082,  -18.4977619 ,  -18.22784209,  -17.857452  ,\n",
              "         -17.50302136,  -17.26871265,  -17.04286667,  -16.72498114,\n",
              "         -16.41947281,  -16.12556869,  -15.84256129,  -15.66071076,\n",
              "         -15.39558225,  -15.22660013,  -14.97748884,  -14.73665861,\n",
              "         -14.585299  ,  -14.35810123]),\n",
              " array([135.8113787 ,  95.79050615,  78.27996777,  68.90568935,\n",
              "         61.6534134 ,  56.99527344,  53.34980362,  49.89525308,\n",
              "         47.49268179,  45.04996229,  42.95778515,  41.13998388,\n",
              "         39.54166016,  38.12212171,  36.85048719,  35.95284467,\n",
              "         35.13094269,  34.15239094,  33.25445692,  32.6267067 ,\n",
              "         32.0414509 ,  31.49406075,  30.806674  ,  30.16430338,\n",
              "         29.72227574,  29.15041358,  28.75998926,  28.38918753,\n",
              "         27.89847131,  27.56687344,  27.12126349,  26.69762654,\n",
              "         26.29423022,  26.02717366,  25.65641352,  25.41300756,\n",
              "         25.17869704,  24.84766002,  24.53004616,  24.32498114,\n",
              "         24.12678988,  23.9350925 ,  23.74953804,  23.47889258,\n",
              "         23.30669336,  23.05268708,  22.89238246,  22.73665861,\n",
              "         22.50366634,  22.35810123]))"
            ]
          },
          "metadata": {
            "tags": []
          },
          "execution_count": 87
        }
      ]
    },
    {
      "cell_type": "code",
      "metadata": {
        "colab": {
          "base_uri": "https://localhost:8080/"
        },
        "id": "ZHpM6QMYkjsS",
        "outputId": "ed2b339e-e24e-47c5-d9bc-8f1bd443ae01"
      },
      "source": [
        "#Matrices needed for the Results of Paper 1\n",
        "#Linear Heat Flow -Table 1\n",
        "k = 30\n",
        "v = 0.2\n",
        "D = np.diag((1+4*v)*np.ones(k))+np.diag(-v*np.ones(k-1),1)+np.diag(-v*np.ones(k-1),-1)\n",
        "C = np.diag(-v*np.ones(k-1),1)+np.diag(-v*np.ones(k-1),-1)\n",
        "\n",
        "eps = 1e-4\n",
        "maxit=50\n",
        "LHF = np.kron(D,np.eye(C.shape[0],C.shape[1])) + np.kron(np.eye(D.shape[0],D.shape[1]),C)\n",
        "\n",
        "print('Table 1')\n",
        "print('[Lower Bound, Upper Bound] Estimate')\n",
        "print('|U-L|')\n",
        "index = [0,21,31]\n",
        "for i in index:\n",
        "  u = np.zeros(k*k)\n",
        "  u[i]=1\n",
        "  print(i+1)\n",
        "  print(alg1(LHF,u,f,eps,maxit), np.linalg.inv(LHF)[i][i])\n",
        "  print(alg1(LHF,u,f,eps,maxit)[1]-alg1(LHF,u,f,eps,maxit)[0])\n",
        "  "
      ],
      "execution_count": null,
      "outputs": [
        {
          "output_type": "stream",
          "text": [
            "Table 1\n",
            "[Lower Bound, Upper Bound] Estimate\n",
            "|U-L|\n",
            "1\n",
            "[0.5702011520873507, 0.5702020200496608] 0.5702015080939912\n",
            "8.679623101359724e-07\n",
            "22\n",
            "[0.5780336923348436, 0.5780355849609463] 0.5780345194350731\n",
            "1.8926261027285562e-06\n",
            "32\n",
            "[0.5862620904175381, 0.586264309495125] 0.5862630614261157\n",
            "2.21907758690687e-06\n"
          ],
          "name": "stdout"
        }
      ]
    },
    {
      "cell_type": "code",
      "metadata": {
        "colab": {
          "base_uri": "https://localhost:8080/",
          "height": 738
        },
        "id": "lOGp2aRyw8az",
        "outputId": "743491d7-139b-415c-c4b6-7ca70776d404"
      },
      "source": [
        "#Linear Heat Flow -Table 2\n",
        "k = 30\n",
        "v = 0.2\n",
        "D = np.diag((1+4*v)*np.ones(k))+np.diag(-v*np.ones(k-1),1)+np.diag(-v*np.ones(k-1),-1)\n",
        "C = np.diag(-v*np.ones(k-1),1)+np.diag(-v*np.ones(k-1),-1)\n",
        "\n",
        "eps = 1e-4\n",
        "LHF = np.kron(D,np.eye(C.shape[0],C.shape[1])) + np.kron(np.eye(D.shape[0],D.shape[1]),C)\n",
        "\n",
        "index = [[2,1],[20,21],[200,181],[200,700],[899,895]]\n",
        "print('Table 2')\n",
        "print('Lower Bound, Upper Bound, Estimate')\n",
        "print('|U-L|')\n",
        "for i in index:\n",
        "  u=np.zeros(k*k)\n",
        "  v=np.zeros(k*k)\n",
        "  print(i)\n",
        "  u[i[0]-1]=1\n",
        "  v[i[1]-1]=1\n",
        "  y=u+v\n",
        "  z=u-v\n",
        "  L1,U1 = alg1(LHF,y,f,eps,maxit)\n",
        "  L2,U2 = alg1(LHF,z,f,eps,maxit)\n",
        "  print((L1-L2)/4,(U1-U2)/4, np.linalg.inv(LHF)[i[0]-1][i[1]-1])\n",
        "  print((U1-U2)/4 - (L1-L2)/4)\n",
        "\n",
        "\n",
        "print('Table 6')\n",
        "eps=1e-4\n",
        "maxit=60\n",
        "m= 50\n",
        "I,L,U=alg2(LHF,g,m,0.95,eps,maxit)\n",
        "tr = np.trace(logm(LHF))\n",
        "Ip = I[-1]\n",
        "Lp = L[-1]\n",
        "Up = U[-1]\n",
        "print('Trace(Log(LHF))')\n",
        "print(tr)\n",
        "plt.figure()\n",
        "plt.plot(range(m), L)\n",
        "plt.plot(range(m), U,color = \"orange\")\n",
        "plt.plot(range(m), tr*np.ones(m),color = \"green\")\n",
        "plt.scatter(range(m), I,marker='x',color = \"red\")\n",
        "plt.legend([\"Lower Bound\",\"Upper Bound\",\"Exact Value\",\"Estimated Value\"])\n",
        "plt.xlabel('Number of Samples (m)')\n",
        "plt.ylabel('Trace(A)')\n",
        "plt.title(\"LHF (n=900)\", fontsize=20)\n",
        "plt.show()\n",
        "print('Lower Bound, Upper Bound, Estimate')\n",
        "print(Lp,Up,Ip)"
      ],
      "execution_count": null,
      "outputs": [
        {
          "output_type": "stream",
          "text": [
            "Table 2\n",
            "Lower Bound, Upper Bound, Estimate\n",
            "|U-L|\n",
            "[2, 1]\n",
            "0.06590667884806001 0.06590692774260992 0.06590678642295984\n",
            "2.4889454991461335e-07\n",
            "[20, 21]\n",
            "0.06683684158545827 0.0668372494954555 0.06683706149536885\n",
            "4.079099972242872e-07\n",
            "[200, 181]\n",
            "0.0 0.0 1.6328011019249202e-17\n",
            "0.0\n",
            "[200, 700]\n",
            "0.0 0.0 3.950902878020824e-19\n",
            "0.0\n",
            "[899, 895]\n",
            "0.00011171703842782765 0.00011207641107380262 0.00011189572408953646\n",
            "3.5937264597496466e-07\n",
            "Table 6\n",
            "logm result may be inaccurate, approximate err = 2.3172985283392525e-13\n",
            "Trace(Log(LHF))\n",
            "506.2524211326222\n"
          ],
          "name": "stdout"
        },
        {
          "output_type": "display_data",
          "data": {
            "image/png": "[encoded data removed]",
            "text/plain": [
              "<Figure size 460.8x316.8 with 1 Axes>"
            ]
          },
          "metadata": {
            "tags": [],
            "needs_background": "light"
          }
        },
        {
          "output_type": "stream",
          "text": [
            "Lower Bound, Upper Bound, Estimate\n",
            "329.8708092203036 682.3468853713391 506.1088472958214\n"
          ],
          "name": "stdout"
        }
      ]
    },
    {
      "cell_type": "code",
      "metadata": {
        "id": "2_e3_ehrtlfV",
        "colab": {
          "base_uri": "https://localhost:8080/",
          "height": 1000
        },
        "outputId": "619a6f24-1b4e-4c2a-8eb5-013d6a732c79"
      },
      "source": [
        "#Poisson Matrix\n",
        "k=30\n",
        "eps = 1e-4\n",
        "maxit=30\n",
        "T =diags([2*np.ones(k),-1*np.ones(k), -1*np.ones(k)], offsets=[0, -1, 1]).A\n",
        "I = np.eye(k,k)\n",
        "Poisson = np.kron(T,I) + np.kron(I,T)\n",
        "index = [[2,1],[1,900],[10,90],[41,42],[58,59],[450,449],[550,750],[600,602],[650,750]]\n",
        "print(\"Condition Number\")\n",
        "print(np.linalg.cond(Poisson))\n",
        "print('Table 3')\n",
        "print('Lower Bound, Upper Bound')\n",
        "print('|U-L|')\n",
        "for i in index:\n",
        "  u=np.zeros(k*k)\n",
        "  v=np.zeros(k*k)\n",
        "  print(i)\n",
        "  u[i[0]-1]=1\n",
        "  v[i[1]-1]=1\n",
        "  y=u+v\n",
        "  z=u-v\n",
        "  L1,U1 = alg1(Poisson,y,f,eps,maxit)\n",
        "  L2,U2 = alg1(Poisson,z,f,eps,maxit)\n",
        "  print((L1-L2)/4,(U1-U2)/4)\n",
        "  print((U1-U2)/4 - (L1-L2)/4)\n",
        "\n",
        "\n",
        "print('Table 5')\n",
        "eps=1e-4\n",
        "maxit=60\n",
        "m= 50\n",
        "I,L,U=alg2(Poisson,f,m,0.95,eps,maxit)\n",
        "Ip = I[-1]\n",
        "Lp = L[-1]\n",
        "Up = U[-1]\n",
        "tr = np.trace(np.linalg.inv(Poisson))\n",
        "print('Trace(Poisson)')\n",
        "print(tr)\n",
        "plt.plot(range(m), L)\n",
        "plt.plot(range(m), U,color = \"orange\")\n",
        "plt.plot(range(m), tr*np.ones(m),color = \"green\")\n",
        "plt.scatter(range(m), I,marker='x',color = \"red\")\n",
        "plt.legend([\"Lower Bound\",\"Upper Bound\",\"Exact Value\",\"Estimated Value\"])\n",
        "plt.xlabel('Number of Samples (m)')\n",
        "plt.ylabel('Trace(A)')\n",
        "plt.title(\"Poisson (n=900)\", fontsize=20)\n",
        "plt.show()\n",
        "\n",
        "print('Lower Bound, Upper Bound, Estimate')\n",
        "print(Lp,Up,Ip)\n",
        "\n",
        "\n",
        "print('Table 6')\n",
        "eps=1e-4\n",
        "maxit=60\n",
        "m= 50\n",
        "I,L,U = alg2(Poisson,g,m,0.95,eps,maxit)\n",
        "Ip = I[-1]\n",
        "Lp = L[-1]\n",
        "Up = U[-1]\n",
        "tr = np.trace(logm(Poisson))\n",
        "print('Trace(Log(Poisson))')\n",
        "print(tr)\n",
        "plt.plot(range(m), L)\n",
        "plt.plot(range(m), U,color = \"orange\")\n",
        "plt.plot(range(m), tr*np.ones(m),color = \"green\")\n",
        "plt.scatter(range(m), I,marker='x',color = \"red\")\n",
        "plt.legend([\"Lower Bound\",\"Upper Bound\",\"Exact Value\",\"Estimated Value\"])\n",
        "plt.xlabel('Number of Samples (m)')\n",
        "plt.ylabel('Trace(Log(A))')\n",
        "plt.title(\"Poisson (n=900)\", fontsize=20)\n",
        "plt.show()\n",
        "\n",
        "print('Lower Bound, Upper Bound, Estimate')\n",
        "print(Lp,Up,Ip)"
      ],
      "execution_count": null,
      "outputs": [
        {
          "output_type": "stream",
          "text": [
            "Condition Number\n",
            "388.81213449326515\n",
            "Table 3\n",
            "Lower Bound, Upper Bound\n",
            "|U-L|\n",
            "[2, 1]\n",
            "0.10468556047136147 0.10872288168353057\n",
            "0.004037321212169098\n",
            "[1, 900]\n",
            "4.808133278744187e-07 0.0003335670000787494\n",
            "0.000333086186750875\n",
            "[10, 90]\n",
            "0.00030261291436231574 0.020224455199052443\n",
            "0.019921842284690128\n",
            "[41, 42]\n",
            "0.22903921509429026 0.50208715932378\n",
            "0.27304794422948975\n",
            "[58, 59]\n",
            "0.1920559709963296 0.22870988006013815\n",
            "0.036653909063808554\n",
            "[450, 449]\n",
            "0.17883659204334534 0.34101737585433556\n",
            "0.16218078381099021\n",
            "[550, 750]\n",
            "0.004114977504218353 0.08432783998073856\n",
            "0.08021286247652021\n",
            "[600, 602]\n",
            "0.0008095393919612948 0.08883187494104999\n",
            "0.0880223355490887\n",
            "[650, 750]\n",
            "0.01618157471580084 0.16180821065397322\n",
            "0.14562663593817238\n",
            "Table 5\n",
            "Trace(Poisson)\n",
            "512.6441819996355\n"
          ],
          "name": "stdout"
        },
        {
          "output_type": "display_data",
          "data": {
            "image/png": "[encoded data removed]",
            "text/plain": [
              "<Figure size 460.8x316.8 with 1 Axes>"
            ]
          },
          "metadata": {
            "tags": [],
            "needs_background": "light"
          }
        },
        {
          "output_type": "stream",
          "text": [
            "Lower Bound, Upper Bound, Estimate\n",
            "-383.9039851000448 1378.5692850488444 497.3326499743998\n",
            "Table 6\n",
            "logm result may be inaccurate, approximate err = 3.013873461987071e-13\n",
            "Trace(Log(Poisson))\n",
            "1065.0006883542387\n"
          ],
          "name": "stdout"
        },
        {
          "output_type": "display_data",
          "data": {
            "image/png": "[encoded data removed]",
            "text/plain": [
              "<Figure size 460.8x316.8 with 1 Axes>"
            ]
          },
          "metadata": {
            "tags": [],
            "needs_background": "light"
          }
        },
        {
          "output_type": "stream",
          "text": [
            "Lower Bound, Upper Bound, Estimate\n",
            "187.4772695466678 1950.320323476178 1068.898796511423\n"
          ],
          "name": "stdout"
        }
      ]
    },
    {
      "cell_type": "code",
      "metadata": {
        "id": "zXo7-IvBtlrv",
        "colab": {
          "base_uri": "https://localhost:8080/",
          "height": 409
        },
        "outputId": "0ad0a45f-41d9-47d2-9129-393ddce1b8fd"
      },
      "source": [
        "#Wathen Matrix\n",
        "\n",
        "Wathen = wathen(12, 12).A\n",
        "print('Table 5')\n",
        "eps=1e-4\n",
        "maxit=60\n",
        "m= 50\n",
        "np.trace(np.linalg.inv(Wathen))\n",
        "I,L,U = alg2(Wathen,f,m,0.95,eps,maxit)\n",
        "Ip = I[-1]\n",
        "Lp = L[-1]\n",
        "Up = U[-1]\n",
        "tr = np.trace(np.linalg.inv(Wathen))\n",
        "print('Trace(Wathen)')\n",
        "print(tr)\n",
        "plt.plot(range(m), L)\n",
        "plt.plot(range(m), U,color = \"orange\")\n",
        "plt.plot(range(m), tr*np.ones(m),color = \"green\")\n",
        "plt.scatter(range(m), I,marker='x',color = \"red\")\n",
        "plt.legend([\"Lower Bound\",\"Upper Bound\",\"Exact Value\",\"Estimated Value\"])\n",
        "plt.xlabel('Number of Samples (m)')\n",
        "plt.ylabel('Trace(A)')\n",
        "plt.title(\"Wathen (n=481)\", fontsize=20)\n",
        "plt.show()\n",
        "print('Lower Bound, Upper Bound, Estimate')\n",
        "print(Lp,Up,Ip)"
      ],
      "execution_count": null,
      "outputs": [
        {
          "output_type": "stream",
          "text": [
            "Table 5\n",
            "Trace(Wathen)\n",
            "35.393837021856186\n"
          ],
          "name": "stdout"
        },
        {
          "output_type": "display_data",
          "data": {
            "image/png": "[encoded data removed]",
            "text/plain": [
              "<Figure size 460.8x316.8 with 1 Axes>"
            ]
          },
          "metadata": {
            "tags": [],
            "needs_background": "light"
          }
        },
        {
          "output_type": "stream",
          "text": [
            "Lower Bound, Upper Bound, Estimate\n",
            "-40403.059106139975 40487.073108809345 42.007001334685526\n"
          ],
          "name": "stdout"
        }
      ]
    },
    {
      "cell_type": "code",
      "metadata": {
        "id": "fb4XKszktl5D",
        "colab": {
          "base_uri": "https://localhost:8080/",
          "height": 409
        },
        "outputId": "abc59442-35ac-4c4c-e448-e3ccbbd04cee"
      },
      "source": [
        "#Lehmer Matrix\n",
        "n=200\n",
        "Lehmer = np.zeros((n,n))\n",
        "for i in range(n):\n",
        "  for j in range(n):\n",
        "    if i<=j:\n",
        "      Lehmer[i][j] = (i+1)/(j+1)\n",
        "    else:\n",
        "      Lehmer[i][j] = (j+1)/(i+1)\n",
        "print('Table 5')\n",
        "eps=1e-4\n",
        "maxit=90\n",
        "m= 50\n",
        "I,L,U= alg2(Lehmer,f,m,0.95,eps,maxit)\n",
        "Ip = I[-1]\n",
        "Lp = L[-1]\n",
        "Up = U[-1]\n",
        "tr = np.trace(np.linalg.inv(Lehmer))\n",
        "print('Trace(Lehmer)')\n",
        "print(tr)\n",
        "plt.plot(range(m), L)\n",
        "plt.plot(range(m), U,color = \"orange\")\n",
        "plt.plot(range(m), tr*np.ones(m),color = \"green\")\n",
        "plt.scatter(range(m), I,marker='x',color = \"red\")\n",
        "plt.legend([\"Lower Bound\",\"Upper Bound\",\"Exact Value\",\"Estimated Value\"])\n",
        "plt.xlabel('Number of Samples (m)')\n",
        "plt.ylabel('Trace(A)')\n",
        "plt.title(\"Lehmer (n=200)\", fontsize=20)\n",
        "plt.show()\n",
        "print('Lower Bound, Upper Bound, Estimate')\n",
        "print(Lp,Up,Ip)"
      ],
      "execution_count": null,
      "outputs": [
        {
          "output_type": "stream",
          "text": [
            "Table 5\n",
            "Trace(Lehmer)\n",
            "20001.815457108554\n"
          ],
          "name": "stdout"
        },
        {
          "output_type": "display_data",
          "data": {
            "image/png": "[encoded data removed]",
            "text/plain": [
              "<Figure size 460.8x316.8 with 1 Axes>"
            ]
          },
          "metadata": {
            "tags": [],
            "needs_background": "light"
          }
        },
        {
          "output_type": "stream",
          "text": [
            "Lower Bound, Upper Bound, Estimate\n",
            "14197.812984256412 26246.22797791116 20222.020481083786\n"
          ],
          "name": "stdout"
        }
      ]
    },
    {
      "cell_type": "code",
      "metadata": {
        "id": "N0rL2OIdtmAG",
        "colab": {
          "base_uri": "https://localhost:8080/",
          "height": 443
        },
        "outputId": "99cfc2cc-647a-44b2-9feb-2283bb21cef8"
      },
      "source": [
        "#Pei Matrix\n",
        "n= 300\n",
        "alpha = 1\n",
        "Pei = alpha*np.identity(n)+np.ones((n,n))\n",
        "print('Table 6')\n",
        "m=50\n",
        "eps = 1e-4\n",
        "maxit = 60\n",
        "I,L,U = alg2(Pei,g,m,0.95,eps,maxit)\n",
        "tr = np.trace(logm(Pei))\n",
        "Ip = I[-1]\n",
        "Lp = L[-1]\n",
        "Up = U[-1]\n",
        "print('Trace(Log(Pei))')\n",
        "print(tr)\n",
        "plt.plot(range(m), L)\n",
        "plt.plot(range(m), U,color = \"orange\")\n",
        "plt.plot(range(m), tr*np.ones(m),color = \"green\")\n",
        "plt.scatter(range(m), I,marker='x',color = \"red\")\n",
        "plt.legend([\"Lower Bound\",\"Upper Bound\",\"Exact Value\",\"Estimated Value\"])\n",
        "plt.xlabel('Number of Samples (m)')\n",
        "plt.ylabel('Trace(Log(A))')\n",
        "plt.title(\"Pei (n=300)\", fontsize=20)\n",
        "plt.show()\n",
        "print('Lower Bound, Upper Bound, Estimate')\n",
        "print(Lp,Up,Ip)"
      ],
      "execution_count": null,
      "outputs": [
        {
          "output_type": "stream",
          "text": [
            "Table 6\n"
          ],
          "name": "stdout"
        },
        {
          "output_type": "stream",
          "text": [
            "/usr/local/lib/python3.7/dist-packages/ipykernel_launcher.py:27: ComplexWarning: Casting complex values to real discards the imaginary part\n",
            "/usr/local/lib/python3.7/dist-packages/ipykernel_launcher.py:33: ComplexWarning: Casting complex values to real discards the imaginary part\n"
          ],
          "name": "stderr"
        },
        {
          "output_type": "stream",
          "text": [
            "Trace(Log(Pei))\n",
            "5.707110264748825\n"
          ],
          "name": "stdout"
        },
        {
          "output_type": "display_data",
          "data": {
            "image/png": "[encoded data removed]",
            "text/plain": [
              "<Figure size 460.8x316.8 with 1 Axes>"
            ]
          },
          "metadata": {
            "tags": [],
            "needs_background": "light"
          }
        },
        {
          "output_type": "stream",
          "text": [
            "Lower Bound, Upper Bound, Estimate\n",
            "-21951.926650937447 21961.00716266143 4.54025586199304\n"
          ],
          "name": "stdout"
        }
      ]
    },
    {
      "cell_type": "markdown",
      "metadata": {
        "id": "biEn4xVVEmhi"
      },
      "source": [
        "# Timing the functions"
      ]
    },
    {
      "cell_type": "code",
      "metadata": {
        "id": "sca8G1gOEo4O"
      },
      "source": [
        "def n_systems(A):\n",
        "  n = len(A)\n",
        "  trace = 0\n",
        "  for i in range(n):\n",
        "    ei = np.identity(n)[:, i]\n",
        "    trace += np.dot(ei, np.linalg.solve(A, ei))\n",
        "  return trace\n",
        "\n",
        "def t(A):\n",
        "  return np.trace(np.linalg.inv(A))\n",
        "\n",
        "def using_alg1(A, eps=1e-4, maxit=100):\n",
        "  n = len(A)\n",
        "  lsum = 0\n",
        "  usum = 0\n",
        "  for i in range(n):\n",
        "    ei = np.identity(n)[:, i]\n",
        "    l, u = alg1(A, ei, f, eps, maxit)\n",
        "    lsum += l\n",
        "    usum += u\n",
        "  return lsum, usum\n",
        "\n",
        "def using_alg2(A, eps=1e-4, maxit=100):\n",
        "  m = int(0.2*len(A))\n",
        "  p = 0.95\n",
        "  f = lambda x: 1/x\n",
        "  return alg2(A, f, m, p, eps, maxit)"
      ],
      "execution_count": null,
      "outputs": []
    },
    {
      "cell_type": "code",
      "metadata": {
        "colab": {
          "base_uri": "https://localhost:8080/"
        },
        "id": "SjJ2EYV2EsH9",
        "outputId": "a8c9b087-d4a4-4ee2-e4f3-2c43b4bdce6d"
      },
      "source": [
        "#Creates LHF matrix\n",
        "k = 20\n",
        "v = 0.2\n",
        "D = np.diag((1+4*v)*np.ones(k))+np.diag(-v*np.ones(k-1),1)+np.diag(-v*np.ones(k-1),-1)\n",
        "C = np.diag(-v*np.ones(k-1),1)+np.diag(-v*np.ones(k-1),-1)\n",
        "\n",
        "eps = 1e-4\n",
        "LHF = np.kron(D,np.eye(C.shape[0],C.shape[1])) + np.kron(np.eye(D.shape[0],D.shape[1]),C)\n",
        "\n",
        "A = LHF\n",
        "\n",
        "import timeit\n",
        "print(\"Trace of inverse : \", timeit.timeit('t(A)', globals=globals(), number=10)/10)\n",
        "print(\"N system solves : \", timeit.timeit('n_systems(A)', globals=globals(), number=10)/10)\n",
        "for eps in [1e-1, 1e-3, 1e-6, 1e-9] :\n",
        "  print(\"EPSILON\", eps)\n",
        "  print(\"\\t Using Algorithm 1 (epsilon : {}): \".format(eps), timeit.timeit('using_alg1(A, eps, 100)', globals=globals(), number=10)/10)\n",
        "  print(\"\\t Using Algorithm 2 (epsilon : {}): \".format(eps), timeit.timeit('using_alg2(A, eps, 100)', globals=globals(), number=10)/10)"
      ],
      "execution_count": null,
      "outputs": [
        {
          "output_type": "stream",
          "text": [
            "Trace of inverse :  0.010854810399905546\n",
            "N system solves :  1.7533345027000906\n",
            "EPSILON 0.1\n",
            "\t Using Algorithm 1 (epsilon : 0.1):  0.9553830028999073\n",
            "\t Using Algorithm 2 (epsilon : 0.1):  0.19834229549996962\n",
            "EPSILON 0.001\n",
            "\t Using Algorithm 1 (epsilon : 0.001):  1.6004138624000916\n",
            "\t Using Algorithm 2 (epsilon : 0.001):  0.3022426094998082\n",
            "EPSILON 1e-06\n",
            "\t Using Algorithm 1 (epsilon : 1e-06):  2.4585146442001133\n",
            "\t Using Algorithm 2 (epsilon : 1e-06):  0.48615675219989496\n",
            "EPSILON 1e-09\n",
            "\t Using Algorithm 1 (epsilon : 1e-09):  3.3271499741997106\n",
            "\t Using Algorithm 2 (epsilon : 1e-09):  0.6683842999002081\n"
          ],
          "name": "stdout"
        }
      ]
    }
  ]
}