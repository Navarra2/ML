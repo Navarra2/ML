{
  "nbformat": 4,
  "nbformat_minor": 0,
  "metadata": {
    "colab": {
      "name": "CLAProject.ipynb",
      "provenance": [],
      "collapsed_sections": [],
      "authorship_tag": "ABX9TyOMYeGMqkEFiJuA+ttCUcoR",
      "include_colab_link": true
    },
    "kernelspec": {
      "name": "python3",
      "display_name": "Python 3"
    },
    "language_info": {
      "name": "python"
    }
  },
  "cells": [
    {
      "cell_type": "markdown",
      "metadata": {
        "id": "view-in-github",
        "colab_type": "text"
      },
      "source": [
        "<a href=\"https://colab.research.google.com/github/Navarra2/ML/blob/master/CLAProject.ipynb\" target=\"_parent\"><img src=\"https://colab.research.google.com/assets/colab-badge.svg\" alt=\"Open In Colab\"/></a>"
      ]
    },
    {
      "cell_type": "code",
      "metadata": {
        "id": "puUDHeXY8BiT"
      },
      "source": [
        "import random, numpy as np"
      ],
      "execution_count": 2,
      "outputs": []
    },
    {
      "cell_type": "code",
      "metadata": {
        "id": "HwG5kO-3hoat"
      },
      "source": [
        "def alg1(A,u,f,eps,maxit):\n",
        "  # i didn't test anything here\n",
        "  \"Algorithm 1 with Gauss-Radau quadrature\"\n",
        "\n",
        "  #find the values a and b bounds of the spectrum using the Gerschgorin circles\n",
        "  a=np.inf\n",
        "  b =-np.inf\n",
        "  for i in range(np.shape(A)[0]):\n",
        "    radius = 0\n",
        "    for j in range(np.shape(A)[1]):\n",
        "      if j==i:\n",
        "        radius+=0\n",
        "      else:\n",
        "        radius += np.abs(A[i][j])\n",
        "    a_candidate = np.abs(A[i][i]) - radius\n",
        "    b_candidate = np.abs(A[i][i]) + radius\n",
        "\n",
        "    if a_candidate<a:\n",
        "      a = a_candidate\n",
        "    if b_candidate > b:\n",
        "      b = b_candidate\n",
        "  #as said in the paper, if the value of a is less or equal to zero, set it to ~10^-4    \n",
        "  if a<=0:\n",
        "    a = 10**(-4)\n",
        "  #beginning of the Algorithm\n",
        "  x_old = np.zeros_like(u)\n",
        "  x_new = u/np.linalg.norm(u)\n",
        "  gamma = np.zeros(maxit)\n",
        "  alpha = np.zeros(maxit)\n",
        "  Ia_old = -np.inf\n",
        "  Ia_new = np.inf\n",
        "  Ib_old = -np.inf\n",
        "  Ib_new = np.inf\n",
        "  j = 1\n",
        "  while (np.abs(Ia_old - Ia_new)>eps or np.abs(Ib_old - Ib_new)>eps) and j< maxit:\n",
        "    #getting the values of alpha, gamma, r\n",
        "    Ax = np.matmul(A,x_new)\n",
        "    alpha[j] = np.matmul(x_new.transpose(),Ax)\n",
        "    r_new = Ax - alpha[j]*x_new - gamma[j-1]*x_old\n",
        "    gamma[j] = np.linalg.norm(r_new)\n",
        "\n",
        "    #construction of T^tilde\n",
        "    Tj = np.diag(gamma[1:j],-1) + np.diag(alpha[1:j+1],0) + np.diag(gamma[1:j],1)\n",
        "    ej = np.identity(j)[:,-1]\n",
        "\n",
        "    #check if the matrices are non singular (this will not happen in general due to the interlacing property of the Tj's in A)\n",
        "    Ta =Tj - a*np.identity(j)\n",
        "    Tb = Tj - b*np.identity(j)\n",
        "\n",
        "    if np.linalg.det(Ta)==0 or np.linalg.det(Tb)==0:\n",
        "      break\n",
        "\n",
        "    deltaa = np.linalg.solve(Ta,ej)\n",
        "    deltab = np.linalg.solve(Tb,(gamma[j]**2)*ej)\n",
        "\n",
        "    phia = deltaa[-1] + a\n",
        "    phib = deltab[-1] + b\n",
        "\n",
        "    ej = np.expand_dims(ej, axis=0)    \n",
        "    Tj_tildea = np.block([\n",
        "    [Tj,               ej.transpose()],\n",
        "    [ej, phia               ]\n",
        "])  \n",
        "    Tj_tildeb = np.block([\n",
        "    [Tj,               ej.transpose()],\n",
        "    [ej, phib               ]\n",
        "])  \n",
        "\n",
        "    Ia_old = Ia_new\n",
        "    Ib_old = Ib_new\n",
        "    #compute I_j\n",
        "    Ia_new = gauss_radau(Tj_tildea,f,a,b)\n",
        "    Ib_new = gauss_radau(Tj_tildeb,f,a,b)\n",
        "    j+=1\n",
        "\n",
        "  #Compute the estimates for lower and upper bounds\n",
        "  U = Ia_new*np.linalg.norm(u)**2\n",
        "  L = Ib_new*np.linalg.norm(u)**2\n",
        "  if j>= maxit:\n",
        "    print('exceeded the number of iterations')\n",
        "  if L<U:\n",
        "    return [L,U]\n",
        "  else:\n",
        "    return [U,L]\n"
      ],
      "execution_count": 292,
      "outputs": []
    },
    {
      "cell_type": "code",
      "metadata": {
        "id": "ocSiXiKWr-Mt"
      },
      "source": [
        "def gauss_radau(T,f,a,b): #works\n",
        "  teta, eigvec= np.linalg.eig(T)\n",
        "  w = np.zeros_like(teta)\n",
        "  I=0\n",
        "  #normalize them to get w\n",
        "  for i in range(np.shape(eigvec)[1]):\n",
        "    vec = eigvec[:,i] \n",
        "    wi = (vec/np.linalg.norm(vec))[0]**2\n",
        "    I += wi*f(teta[i])\n",
        "\n",
        "  return I\n"
      ],
      "execution_count": 31,
      "outputs": []
    },
    {
      "cell_type": "code",
      "metadata": {
        "id": "oT8p5Q96X7GC"
      },
      "source": [
        "def alg2(A,m,p,eps,maxit):\n",
        "#computes an unbiased estimator I_p of tr(A) and a confidence interval (L_p, U_p) with a user probability\n",
        "  n = len(A)\n",
        "  Lmin = np.inf\n",
        "  Umax = -np.inf\n",
        "  sumLj = 0\n",
        "  sumUj = 0\n",
        "\n",
        "  for j in range(m):\n",
        "    zj = np.random.random_sample(n)\n",
        "    for i in range(n):\n",
        "      if zj[i]<0.5:\n",
        "        zj[i] = 0\n",
        "      else:\n",
        "        zj[i] = 1\n",
        "    #to avoid division by 0 we treat the case zj=[0,...,0] separately    \n",
        "    if zj.all()==0:\n",
        "      S=[0,0]\n",
        "    else:\n",
        "      S = alg1(A,zj,f,eps,50)\n",
        "    sumLj =sumLj + S[0]\n",
        "    sumUj =sumUj + S[1]\n",
        "    Ij = (sumUj + sumLj)/2/(j+1)\n",
        "\n",
        "    Lmin = min(Lmin,S[0])\n",
        "    Umax = max(Umax,S[1])\n",
        "\n",
        "    eta2 = -0.5*j*(Umax-Lmin)**2*np.log(1-p)/2\n",
        "    Lpj = (sumLj - np.sqrt(eta2))/(j+1)\n",
        "    Upj = (sumUj +np.sqrt(eta2))/(j+1)\n",
        "\n",
        "  Ip = Ij\n",
        "  Lp = Lpj\n",
        "  Up = Upj\n",
        "\n",
        "  return [Ip,Lp,Up]"
      ],
      "execution_count": 308,
      "outputs": []
    },
    {
      "cell_type": "code",
      "metadata": {
        "colab": {
          "base_uri": "https://localhost:8080/"
        },
        "id": "PswfYlRX0LAN",
        "outputId": "d7854eaa-a1b0-47e9-84b3-ec2976119a0b"
      },
      "source": [
        "# small experiments\n",
        "def f(x):\n",
        "  return 1/x\n",
        "f(2)\n",
        "A = [[1,0,0],[0,2,1],[0,1,1]]\n",
        "B = [[1,0,0],[0,2,1],[0,1,1]]\n",
        "eps = 0.01\n",
        "maxit = 50\n",
        "u=[0,1,1]\n",
        "alg1(B,u,f,eps,maxit)\n"
      ],
      "execution_count": 307,
      "outputs": [
        {
          "output_type": "execute_result",
          "data": {
            "text/plain": [
              "[0.8348486239936346, 0.8352715568918101]"
            ]
          },
          "metadata": {
            "tags": []
          },
          "execution_count": 307
        }
      ]
    },
    {
      "cell_type": "code",
      "metadata": {
        "id": "4kMgt09HkiA8"
      },
      "source": [
        ""
      ],
      "execution_count": null,
      "outputs": []
    },
    {
      "cell_type": "code",
      "metadata": {
        "colab": {
          "base_uri": "https://localhost:8080/"
        },
        "id": "BNSafWeGzDL2",
        "outputId": "22889b57-6d59-4000-9393-88684195dece"
      },
      "source": [
        "#small experiments\n",
        "A = [[1,1,1],[0,2,1],[0,1,1]]\n",
        "m=10\n",
        "alg2(A,m,0.5,eps,maxit)"
      ],
      "execution_count": 277,
      "outputs": [
        {
          "output_type": "stream",
          "text": [
            "/usr/local/lib/python3.7/dist-packages/ipykernel_launcher.py:28: RuntimeWarning: invalid value encountered in double_scalars\n",
            "/usr/local/lib/python3.7/dist-packages/ipykernel_launcher.py:29: RuntimeWarning: invalid value encountered in double_scalars\n"
          ],
          "name": "stderr"
        },
        {
          "output_type": "execute_result",
          "data": {
            "text/plain": [
              "[0.1162386925868641, -0.032214918106395735, 0.2905231238549827]"
            ]
          },
          "metadata": {
            "tags": []
          },
          "execution_count": 277
        }
      ]
    },
    {
      "cell_type": "markdown",
      "metadata": {
        "id": "F98fHQ0RndVh"
      },
      "source": [
        "Questions to argue with Leelo:\n",
        "-Apply twice so we can have a lower bound and an upper bound.\n",
        "- In algorithm 2 we need to take out the cases when there are inf's or Nan's, or if the matrix is singular\n",
        "- What to do to the cases that exceed the number of iterations?"
      ]
    },
    {
      "cell_type": "code",
      "metadata": {
        "id": "ZHpM6QMYkjsS"
      },
      "source": [
        "#Matrices needed for the Results of Paper 1\n",
        "#Linear Heat Flow\n",
        "k = 3\n",
        "v = 1\n",
        "D = np.diag((1+4*v)*np.ones(k))+np.diag(-v*np.ones(k-1),1)+np.diag(-v*np.ones(k-1),-1)\n",
        "C = np.diag(-v*np.ones(k-1),1)+np.diag(-v*np.ones(k-1),-1)\n",
        "\n",
        "LHF = np.kron(D,np.eye(C.shape[0],C.shape[1])) + np.kron(np.eye(D.shape[0],D.shape[1]),C)\n",
        "\n",
        "#Vicsek fractal Hamiltonian\n",
        "#Poisson Matrix\n",
        "#Wathen Matrix\n",
        "#Lehmer Matrix\n",
        "#Pei Matrix"
      ],
      "execution_count": 349,
      "outputs": []
    },
    {
      "cell_type": "code",
      "metadata": {
        "id": "V423GSPpsN4V"
      },
      "source": [
        ""
      ],
      "execution_count": null,
      "outputs": []
    }
  ]
}